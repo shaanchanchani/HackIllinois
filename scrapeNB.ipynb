{
 "cells": [
  {
   "cell_type": "code",
   "execution_count": null,
   "metadata": {},
   "outputs": [],
   "source": [
    "import requests\n",
    "import io\n",
    "import csv\n",
    "\n",
    "pcpurl = \"https://www.ncei.noaa.gov/pub/data/cirs/climdiv/climdiv-pcpnst-v1.0.0-20230206\"\n",
    "tmaxurl = \"https://www.ncei.noaa.gov/pub/data/cirs/climdiv/climdiv-tmaxst-v1.0.0-20230206\"\n",
    "tminurl = \"https://www.https://www.ncei.noaa.gov/pub/data/cirs/climdiv/climdiv-tminst-v1.0.0-20230206\"\n",
    "response = requests.get(tmaxurl)\n",
    "\n",
    "if response.status_code == 200:\n",
    "    content = response.content.decode('utf-8')\n",
    "    reader = csv.reader(io.StringIO(content))                         # Check if response is successful\n",
    "    csv_path = \"./historical/tmax.csv\"\n",
    "    with open(csv_path, \"w\", newline = \"\") as csv_file:\n",
    "        writer = csv.writer(csv_file)\n",
    "        for row in reader:\n",
    "            writer.writerow(row)"
   ]
  }
 ],
 "metadata": {
  "kernelspec": {
   "display_name": "Hack",
   "language": "python",
   "name": "python3"
  },
  "language_info": {
   "codemirror_mode": {
    "name": "ipython",
    "version": 3
   },
   "file_extension": ".py",
   "mimetype": "text/x-python",
   "name": "python",
   "nbconvert_exporter": "python",
   "pygments_lexer": "ipython3",
   "version": "3.10.9"
  },
  "orig_nbformat": 4,
  "vscode": {
   "interpreter": {
    "hash": "d85abf4e29fe8cd195641de5170b03cc668ec781ad6dbc2391c708a728f49a09"
   }
  }
 },
 "nbformat": 4,
 "nbformat_minor": 2
}
